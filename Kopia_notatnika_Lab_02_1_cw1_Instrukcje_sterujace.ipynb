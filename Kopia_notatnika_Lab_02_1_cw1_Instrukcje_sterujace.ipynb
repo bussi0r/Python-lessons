{
  "nbformat": 4,
  "nbformat_minor": 0,
  "metadata": {
    "kernelspec": {
      "name": "python36",
      "display_name": "Python 3.6",
      "language": "python"
    },
    "language_info": {
      "mimetype": "text/x-python",
      "nbconvert_exporter": "python",
      "name": "python",
      "pygments_lexer": "ipython3",
      "version": "3.6.6",
      "file_extension": ".py",
      "codemirror_mode": {
        "version": 3,
        "name": "ipython"
      }
    },
    "colab": {
      "provenance": [],
      "include_colab_link": true
    }
  },
  "cells": [
    {
      "cell_type": "markdown",
      "metadata": {
        "id": "view-in-github",
        "colab_type": "text"
      },
      "source": [
        "<a href=\"https://colab.research.google.com/github/bussi0r/Python-lessons/blob/main/Kopia_notatnika_Lab_02_1_cw1_Instrukcje_sterujace.ipynb\" target=\"_parent\"><img src=\"https://colab.research.google.com/assets/colab-badge.svg\" alt=\"Open In Colab\"/></a>"
      ]
    },
    {
      "cell_type": "markdown",
      "metadata": {
        "collapsed": true,
        "id": "w_PHiuecN_UN"
      },
      "source": [
        "## Instrukcje sterujące - ćwiczenia z algorytmiki (1)"
      ]
    },
    {
      "cell_type": "markdown",
      "metadata": {
        "id": "bnFx-sNfv7U-"
      },
      "source": [
        "* Imię i nazwisko, kierunek, grupa: .................."
      ]
    },
    {
      "cell_type": "markdown",
      "metadata": {
        "id": "Hf4MWb8tN_UN"
      },
      "source": [
        "<div class=\"alert alert-block alert-info\">\n",
        "Pobierz tylko ten plik i umiesć go w swoim projekcie w chmurze (przeslij). Nastepnie rozwiaż zadania.\n",
        "</div>"
      ]
    },
    {
      "cell_type": "markdown",
      "metadata": {
        "id": "4_RkLMfxN_UN"
      },
      "source": [
        "### Zadanie 1. Analiza schematu blokowego\n",
        "\n",
        "Przeanalizuj działanie poniższego algorytmu zapisanego w formie schematu blokowego.\n",
        "\n",
        "* Zbadaj jego zachowanie dla różnych wartości $n$ oraz $a$.\n",
        "* Opisz, co realizuje przedstawiony algorytm (podaj jego specyfikację).\n",
        "* Napisz kod (w Python) funkcji realizującej opisane działania.\n",
        "\n",
        "<img src=\"data:image/png;base64,iVBORw0KGgoAAAANSUhEUgAAAY8AAAHVCAYAAAAJj3d2AAAHjHpUWHRteEdyYXBoTW9kZWwAAE1W166Eyo79mi3NPJwtcngkZ5qc3shNamKTvv4Wd5+RRiIYL9vYrrLLPyg3nFXTlz8INIxFUzVl8YPyPwiCQDD9D4T/A9MeAv+gDIyDBwr/AnYCYCD/HtftT/Y4jt9iSY/fZvyD0rr8/IsZ4930ffqDiPgvBKD/CZtPMR4rIE0PPGAIsFEWUAAgsD/yJLD/BS9mmvoyLDOt2R59lPxFiceEJnuG/oNwgO6b7vFdKvNufFS49zIOgCOS2C/0i5II/QvjJADctEqX5v+Zefwst7T+cxOdIeWfN34Gr8y2zjdUEB7zJ7OXy9qMnz8x4C3xS/4B2zWVf9yi3Ju8fLio8INyRZPWSzoAkebfZEqrnOqx+87elga9F3ayPfnPyCcd/jVigaT9A/8ZQYMty/GVECwMtsyFRysmfiG4ldBz6VK40UFVcqm11AEfReWo0t06FaWG2Dxd+GXirbOR/H4yUZqu02ATguMHYdmLRas4y2dmnzP17nRHdoPA9K8nXb3MG5w6bYlto9R0GRPrCipQogQpEAdYRz+H+m5PpsURcz9P3tdsspVkBhYEf8K2Gr2AcFp9a2Zb3loOU6/dl3GC37BrHuTkxIAH4vgNdiQVvkXiFWFsobMz1NX6LdR5ScDPRCREGZzbTxtLM0ziu7eqhtCSKp2iJIRVrwoIlxVD6LsNdzlhKYmjsGwYDq3O71UCBppYPiHCYfVV6AKsgQ+f+dCJ/6omymULm0ui8LyxRGtsJeqHQr4GWhuciMSObaJs7DI903y3jtCKRE85yCLAZtMKH4ivwY8LB8Qo7j4X1+EMKBYacCuvRIWzV9OzLgUrRhSBkrWyBzNkLiXEu1ZxrZCdpMnSE6zmXCvRJU4fnzgumkpjZhBCPCFxbh48huXW0Nh2/YmERzNTiklmj5z/7ubT4KZGfW1voCl7/Ox+XLsVSkGwhELJWp6hNmZm0CDoFXznbOm4BgjSHOOI02Dn6gazerz+dmx9dt4aDaLiDBpZeYP+rHHbH8IGqhwRu7usvz4KR28pulLNctrSnhjtMG+PT+2oPaovsTbft8WvrD4lLDk3qN3GyQobahFBl0sO8nvACpXvRF0PB78dXGEL1u5W1XmO+uT8iI6fixl6hktn5WSB53DVf5dPxnysyGl5FPFLM4Sz4mOglZiV6/DpPgRtODUOXHXpjjFE2/NJQw12YbWCW6Z86cY4ZCGDAKtxzbe6omDCd+NOGdG81TfllWtX0YuDOZNwNw3W8GagAWMTbGgq6Fiix1xOV8fkfu4tLn8BZHKsDIU2oJi+jXGCRU88LBPRO96+tNxBL9g7vzNY42qHt4iKpE1MQXVanq1u7FJxyyb6/nUlkTkFp2UaNpwnmZhGuWisQ+aKYGPoEHoKrJpxX6R6ybfacg8uHEqjmLdXApY24IgYaDjqGE1yiS8vEI+8bNI1eg2bsGREBDv2WSjETtQXdhYMWHEj95EWv0ASSdX1gfmaoRXEXJXvvR673WMbammcuqXTSG+um/lWsG5UsiCp2wq0XhDok5hteCGJzpuAFkOMhQk6b2HrK22mEDERFaNQnA6DWTIbIYZBG37rkiZ8lzbq2FEFUGtJ5mAspbh6sst5wiZimg1NebH5WuXbqLYNpgfWQkTx18jNymxsmjMNJlR7WdqQdkbnkc7Da5NQxNFk6tVbkO281DgeGHNtv+Y8FcDLJlDnQoxws6N37HL57MifiI+yRTi/2z8wA7H3PC8yqTfeIVa5k6/jFbK+XY6EOZR4afKq4uZy+r6rMUjLUdkb36qjMnqaUXIL+ouoaV729oJoUD3knmK5VLeSP05Zhf0YR0lWQaa6EMKBpTpk+e8ekap1Bgcdu0RwiGwooDCk6kLwToqCeL+ykneNxZIbzFTgfC/tpfsIZxNgRkNlsknt9L4fjrLw9KP63WWRhM5Kz7Gn9J8aRWHH1HApICyCWIR0T2GAiHrHmrtU8YFnWHebbsTcztc9lo1fD42LOtuVY/J712NyuzVwHLM3zG3hFPo3ORUzG5MaEQ65KNwkhhWIFL1mPfxcbdeOcPgW0GFGzuwGamoOQhFnM6Rn6ENQLGxhtXSxItt1ZzQQPEllK1+PuHvbbob6CtwE8pytgvtVogQuLu611WKkfegSkoh8Lks8novmRYZ2Fk6I+RxoYgNBQZhqXq2CUYNdN9TmI/2zKBniAvhpU8JpxLc7nZm20LdXPduhJAq8TE1qDB0LfErFJ+0HFAk2OGqEg9697PZMkK4X/g0zi5KWGA2zLOtVic+L4fVMBt7TYr6oGK+9tsWeA6eb5/bFFhpVYFWRnkx70LmpPlToTuSVljujoOZAZ4fsE6qyD3tuhEGJ5bPaArjnwqNVrkeurNrN9knfEPd1RjkQLwhfG8w/bGS+5N15E6q/KfC3eJq9ggE+uGithb/mk/MxI2DR90TNElVa6OaNigA7bKYWRvGaOduNWW7DhBtBSXkvLUm4UJ6+ZrBC8MZfCsU4M3pFvQzVSdyUi4jZZc/o47oDM6QxRtW9cyGKW8czizwXmK3E/5tj/jvUgO9/J0VU+A8JNiCVAAAgAElEQVR4Xu2dC9RO1b7/f/6VCilRu2LbGOWyu+iocKJQx6WLEsXZoZsKUSMdTvZGbinipIQ0hC2XkhinyLWo7bJrHynpqhLKIZFLqLTLf3znPvPZy+N53mc96zLXWnN91xjv8Hqfteb8zc9vrvl9fvNa6vDhw4eFFwm4JLBr1y5Zv369fPDBB7Jt2zbZsGGD7Nu376ifevXqydq1a6V8+fJH/dSsWVPOOussOe+88+T888+XU0891WXuvI0ESCAuBEpRPOLiinjaMW/ePFm9erW88847SjR+/vln1eCj4W/YsKEcf/zxOQUCopFLVPC3H374Qd5++20lQEgTaSDNiy66SC699FK59tpr4wmDVpEACWQIUDxYGY4g8O2338orr7yS+WndurW0aNFCatWqpRr4M844I3BiiGAgIohiFi9eLK+++qpcd911mZ9KlSoFnicTJAES8EeA4uGPnzVPT548WaZNmyYffvjhEQ13FAVET6pTwC644ALp3Lmz3HbbbVGYwzxJgARyEKB4pLxaPP744zJ8+HBBhNG1a1epX79+7Iigi2vChAmycOFC6du3r9x///2xs5EGkUDaCFA80uZxEfn1119l0KBBSjTuvfde1SCfdtppsSfxzTffKJuffvppZfPAgQOlVKlSsbebBpKAjQQoHjZ6tYQy4dv7gAED5Prrr1cN8HHHHZc4Aj/99JMSEQzmP/LII2pMhhcJkIBZAhQPs7wjza179+6yefNm1egec8wxkdoSROaY+YWZWeecc46MHTs2iCSZBgmQgEsCFA+XoJJ8GwQDU2ARcXTr1i3JRclp+7hx42TEiBFqSnGVKlWsKx8LRAJxJEDxiKNXArTpiy++UIIxdepUtTDP1uurr76S22+/XSZOnCjVq1e3tZgsFwnEhgDFIzauCN6QTz75RG644Qb5+OOPg088pimiCwvjOmeffXZMLaRZJGAHAYqHHX48qhSYmVS3bl3Zvn27pSXMXywsKvz000+lYsWKqSs7C0wCpghQPEyRNpjPwYMHBXtLIfJI64XIAxFXEmeTpdVnLHeyCFA8kuUvV9ZiGm6XLl3USvG0XnPnzpUZM2bInDlz0oqA5SaBUAlQPELFaz5xzDjq06ePrFq1ynzmMcuxQYMG8tRTT8Vy1XzMUNEcEiiaAMWjaGTxfuDyyy+XYcOGyWWXXRZvQw1Yt3z5chk6dKgsW7bMQG7MggTSRYDiYZG/Fy1apHakxbdtXv8gcM8996gZZ82bNycSEiCBAAlQPAKEGXVSQ4YMkV9++UUGDx5szBSczYHdeLHr7YknnugqX8yEwmA+xmbCvvr376/s6tevX9hZMX0SSBUBiodF7u7QoYO0a9dO2rdvb6xUEIJJkyYpwXIrHhjIxtWxY8fQ7XzhhRfk5Zdflueffz70vJgBCaSJAMXDIm/jdL9Zs2bJueeeG1qpMIaAwXjsk4UpwdgWZN26ddKyZUs1uwldZ506dVL5T58+XapVqyaNGzdWg/hLlixR26RgV1xciJSwZUqYF04r/MMf/qAOm+JFAiQQHAGKR3AsI0+pWbNmgkHisC6cX44psG3btlVRAxp+LMjTkQfEBN1DGLDfuXNn5u94ZsWKFTJ69GgVnZiMPMAibC5h8Wa6JBBnAhSPOHunSNvCjjwwvtGrVy9llRaCXN1WiEwQbeBwKdwH8cClu6lMigcjjyIrEW8nAZcEKB4uQSXhNlNjHhAM5IXdbJ2RBxhBXCpXrqzGXXREEqV4cMwjCTWXNiaRAMUjiV7LY3PYs63QbTV+/Hjp3bu3bNmyRRYsWCBXX311RiTwNy0Yzt+jFA/OtrKogrMosSJA8YiVO/wZs3jxYnXQU1gHI0E8nnvuObW9Oy4MziPy0N1RWF+CY21hh77uvPNOefbZZ9V/V65cKY0aNVID7ujWMjFgjoH9G2+8Ua688kp/cPk0CZDAEQQoHpZViKZNm6pps02aNLGsZMUX5/XXX5dHH31UXnvtteIf5hMkQAIlEqB4WFZB3nrrLTXu8Ne//tWykhVfnEsuuURNC7744ouLf5hPkAAJUDzSVgewHcett94qbdq0SVvRM+V96aWXVLfa7NmzU8uABSeBMAkw8giTbkRpHzp0SGrXri0bN26MyILos61Ro4Zs2LBBjj322OiNoQUkYCEBioeFTkWRMLhdq1YttVgvbdcpp5wimzdvlpNPPjltRWd5ScAYAYqHMdTmM/r888/lqquuks8++8x85hHlWL16dbXKHtui8CIBEgiPAMUjPLaxSHnTpk2C6bKTJ0+WqlWrxsKmMIz48ssv5a677rK+nGGwY5ok4IUAxcMLtYQ98/XXX6v1FdicsGfPngmzvrC5Tz75pOAH60jOOuuswg/wDhIgAd8EKB6+ESYnASzgw9Yi8+fPl9KlSyfH8DyW/vjjj3LNNdfI+eefL0888UTiy8MCkECSCFA8kuStAGxdunSp2vkWYyF9+/Z1fQZHAFkHlsSBAwdk+PDhaiU7/r3iiisCS5sJkQAJuCNA8XDHyaq7Dh8+rM72RsOLcQKIyJlnnhn7Mm7dulXZPGXKFGUz9q3iRQIkEA0Bikc03GOT65gxY1SDjDO+sYU6DmuK24W9sCZMmKBmUUE0bBy3iRtz2kMChQhQPAoRSsnn2PAQP2vXrpXrrrsu8xPFIruff/5ZXnnllcxP/fr11Rnp+oTClLiExSSBWBOgeMTaPeaN27179xENNyKSFi1aqAWHGJiuUqVK4EZ99dVX6phYrAjHOAY2NHQKGBb98SIBEogXAYpHvPwRO2sWLlyopsC+++67qoH//vvvlYjg1MKGDRvKCSecIOXLl1erufGjf8e/+/btk71792b+1b9jlhQ2bsQpf0gTzyHNiy66SHWbtWrVKnYcaBAJkMCRBCgerBFFEYAAoMFHw79t2zY19VeLhFMosLcU9tZyCor+vWbNmuq0QQgQRANCw4sESCBZBCgeyfJXIqz99ddf5bjjjpNffvklEfbSSBIggeIJUDyKZ8YnChDAgHfZsmUFu/vyIgESsJMAxcNOv0Zaqp9++kl1V2FsgxcJkICdBCgedvo10lIdPHhQTjvtNMFKcF4kQAJ2EqB42OnXSEu1f/9+tWIdM7N4kQAJ2EmA4mGnXyMtFWZd/e53v5M9e/ZEagczJwESCI8AxSM8tqlN+bvvvpNzzjlHnWbIiwRIwE4CFA87/RppqXD0bZ06deTbb7+N1A5mTgIkEB4Bikd4bFOb8jfffCN169aV7du3p5YBC04CthOgeNju4QjKh5Xn2Grkf//3fyPInVmSAAmYIEDxMEE5ZXng2Nt//dd/FWx4yIsESMBOAhQPO/0aaak2b94sTZo0kU2bNkVqBzMnARIIjwDFIzy2qU35yy+/lCuvvFJtjMiLBEjATgIUDzv9GmmpPv/8c3VG+meffRapHcycBEggPAIUj/DYpjZlHOrUunVrtV07LxIgATsJUDzs9Gukpfr444+lXbt28tFHH0VqBzMnARIIjwDFIzy2qU35ww8/lA4dOqgDo3iRAAnYSYDiYadfIy3V+++/L507d5Z169ZFagczJwESCI8AxSM8tqlNGeedd+nSRdauXZtaBiw4CdhOgOJhu4cjKN97770no0aNkunTp0eQO7MkARIwQYDiYYJyCvL44Ycf5MQTT1Qlfeedd6Rr166yZs2aFJScRSSBdBKgeKTT74GXesSIETJ//nwZP368Ortci8eUKVNk+PDhMm/ePKlZs2bg+TJBEiCBaAhQPKLhbl2uGBxv1KiRlC5dWmrXri07duxQh0HhSNoqVaoI1n7wIgESsIcAxcMeX0ZekpYtW8qSJUuUHWXLllVnmFeoUEFmzpwprVq1itw+GkACJBAcAYpHcCxTnxKij2bNmsnu3bszLHAoFBcLpr5qEICFBCgeFjo1yiI5ow9GHVF6gnmTQLgEKB7h8k1d6s7og1FH6tzPAqeIAMUjRc42VVREH6tXr5bZs2dzrMMUdOZDAoYJUDwMA09DduvXr1eLBKdOnZqG4rKMJJBKAhQPC92OQes33njDwpKFW6SmTZvK8uXLw82EqZOAJQQoHpY4UhejVKlScvjwYctKZaY4ZGeGM3OxgwDFww4/qlKw8fPnTPJzz2/VqlUydOhQmTFjhlSsWDHzYL6/u0+ZdyaFAMUjKZ4qYCcbPv+OjIohGtzGjRvLypUrpV69etKrVy9VmNGjR2f2C/NfuuBSwD5mAwcOVDsn16pVK5Nwvr/7yRlsli1bJr1791ZcsNU/djII6kL606ZNU6wxTlejRg3p2LFjUMlbnQ7FwwL3RtXoWYDuiCJExdEpHkE2jDb4J2zxcDJCJEXxcF9rKB7uWcXyzqgavFjC8GmUSZbo7unUqZOyeMiQIfLQQw8dFXk88sgj8qc//emIKAQNHBrU7O6iQkXftWuX+ka9ePFiwVRqPL9o0aKMDfp5bKOP+3D+PE6DxLodfT+6pxBdIAJ45pln1CP6fvzufAYbY+aKnHLZgXS1gGo7EIVBSPOJB/7eo0cPmTVrllStWvUIm5wRnI5UsrvTtFBUq1ZNRR4NGjSQO+6444gyOX1Ut25dlZcz0sLNSAe+c17a9kI+SfrnFI8Ee9BkY5dgTK5NN8VTN7I4533AgAGZBihXt9XcuXNV44aGDBcadjSqeM7tpRt83ZAirY0bNx6RBhr1nj17yqBBg6RSpUoqH+SBvNBAbt26VYkB7NHP4pl+/frJsGHDlCn6eTSwub7F57Ojffv2ct9998mYMWNU4wz7VqxYofLDgWLo0ps8ebK8/fbbqtsKl+5qwjEATvtwvxYVfSQAyqLThPBBbHS3286dO3N2W+USG+RbEnf4FfzGjh17xDiQWz8l7T6KR9I89n/2mmroEorHk9mmmKIhGzlyZOabbEljHlu2bFERwLhx41SZ9NhIMd1bhRo1HQ1oschuOJ3PI1rJFh7Y5Rw70Oe6ZDuhkB36fmdaEAPnmAfGhDCdWjfQ2YKk/3/ZZZeJjiogQoiQTj/9dNm/f79cfPHFMmnSJBk8eLASJzdjHrkE11k+lM0pgJ4qYMIeongkzGEw11Qjl0A0vkw2xbUY8UCB8G25cuXKqmy5uqxK6krSz+SaGYXPnI2tHijO7kLCfc5uG2dXje6icUYL+cSjpJlY2d0/6Pbq3r273HrrrYIITQ+Yw5by5cvL9ddfr6KibOHD5zrqwU7OiIweeOABJdStW7dWwlO/fn0lSBDLfAPm2UyRLroXc0UeuWzwVRET8jDFIyGO0maaauCCwoIX+Yorrgh0hkxQtmWnY4qt7kt39uuXNNtKi81vfvMbFXkU02WFMpb0jT9X95KbKALpOru6nN0/xUYe2aJSUuSBbit0q+nuoTJlyhwxCytbDBF1YBAc0dItt9yiDiv7/vvvM+KTTzyyxTBf5JEd+YRVN+OYLsUjjl7JY5Opxs0tErx4uIrpQnGbdhT3meJbzJgHGmLnQLSXwdjsb8a6YUQ3znHHHXeUGOW6X4+7oPHVM5KcYx4QD2e3DUQJl1Po8tmBMY/HHntMjUtoMcCzeswj11Rdp+jlG/PQ4yc4xRJRByIrpAmeGKfRA/W5uq2c4oEDzXKNNeWK2qKot1HlSfGIinyR+Zpq2IoxK0lRhZtymWTs7BrKN9tKz1bSjdSmTZuKnmWly509e+rZZ5+Vhx9+ODNrSt+nu2ac9zu7rJyzpfCMU8ycZco32yrXLC4tGJjBhbwwFvHCCy+ocY1PPvkk5zoPZ9STa7aV/kKTPRaRHUE4Iw9MBsAMOIyPoMvLOTsNXWgLFy48YgZZNgvN0DkDzU29S+o9FI8EeA57Vbndc8nZV4sXG9/aMJUQjYKz31gvisJnunHAt0d0i+gLf2/SpImaBaMbA7xgGOzVf8e9uV4251RQ3cDk+jaqu1UwKIy+bXwL1b8X6p7R/eRodObMmaO6L1AuPWunWNeaFI9ibYvq/vfee08tVMyeohqVPcw3PgQoHvHxRV5Lim3UnN0JCM2d0zzRGKAhcE651N/GMDahu6GcUYXz96+//lrdg3PJnX935qH/rldLF1oVDHvR+KNP//3335eGDRuq/5e0wjpft0W+/nY3bi6Ws5s0k35P9vhM0stD+4MjQPEIjmVoKXlp1JwN+IQJEzL9vIgCMFMFDfPVV1+d8xulUwh0ZKCnNqIbAOKj59c7B8Ozox634qG3tdi3b5/qi8Z0UFz5tonQC8d0ZJJtr1dHeOHsNS8+RwJJJ0DxSIAHvTRquoG9/fbbBd1RI0aMUIu4TjvtNKlZs+YRUYMTAcRBC4X+Fq8b95tvvlndeuGFF6p/nZGHc8Xviy++qGZYuRUPZ7+0cwFXrq6S7P2TnH3ffrtWvHBOQPWhiSQQCgGKRyhYg03US6Omp2diywWMY2DTt3LlymWiDedsEliLGSeIRDCIqmeiLF26VAmAnpWCAUyMd6DLKls8cnVzuRUPZ+RQaJqoUzz0SmgsBgtiE0EvnIP1NFMjgeQQoHgkwFdeGrXsaYS5GmXnwqzXX39dEDHoPYuAxbmnEb7hY5omBt11RKL7wzFgjkvv1YTfMdiOkwSffvrpzE6ouQbMsyOJ7DSdK7G1q7TdsA+zYNq0aaMG7bFy2M8qXy+cg6g+JS2e0+kXElXc53YFdz6b/T4fBAumkRwCFI8E+CqqRs2JBo08GhfdZeUGWxBbdJuc7RMVZzfi4YY3G383lHhPUAQoHkGRDDGdqBo1Z5G8NOIQD3SX3XPPPZ42isseGA8RsUraJGfnegdMo9bbjiC6y7VLK+zTi9nwu3NnWz0VOls8cq270M9iuxOdj3Nth3NjPze7yobtE6YfXwIUj/j6JmOZyUYtG4dugPLt65MLn3PxlJcV0VG5xBRnzQdTmDGjLN82604xwGI550poMNJ7M+ldZPE33fg7V3zrRXQQjOy1Ps5daJ3PIz/nflj51uhE5SvmGz0Bikf0PihogalGraAhlt9ginN2hJCruyl7ZbQe8+jfv7/ceeedme3SnXsrOfd8wnRnva05xqj08/qMEOw6C+FyzlZziofzaFn8vdCuspZXDRYvBwGKRwKqhalGLQEoQjXRFOeStjxHo51rl9Zs8cChTs5LTxjQkUeug54wwUBvS6IXbuYTD+eWITqfYqLPUB3FxGNBgOIRCzeUbISpRi2fFeiywIpvbGuNA3YwqyrI7qggBtaDcKMpziVFHtm7xOpyOcWjT58+qnsqe12Lm3M3sneBzSce2ZELI48gaphdaVA8EuBPU41aPhTZC/HC3hAxqt16TXHOnkatxzx0VKC7lJz+yN46HJ9hzEMPvOOwKGe3Va5dbnEaoO62KhR5OMUj366yCXh1aGKIBCgeIcINKmlTjVoh8XjwwQflt7/9rVrvEeYZHWGLU75ymuTsnG31+OOPKxH4j//4D7n33nvVOePZXVLOU/HwWa5zxEuabaXX7GRHNvkiD+RRaFfZoOo300kmAYpHAvwWVqOWPV1Uz97RO+vqPm7dBw9U6L7Q4oFvutgBFxe6tHDh/+vWrTtiF150cyEtCA7S1g0Zvt3qHXrffPNNlQYWKuoppNm79Ybd5x4W5wRUMZpIAkUToHgUjcz8A2E0as5vnBAB7HvVt29fJQ5dunRRXSA4whNbleDC57qfXUcG6BqpXbu26nvPXtPhnNrpjCSce2fBBlyYDZQrfWxvMnDgQGWPnm5aaIdeP94Jg7Mfe/gsCcSZAMUjzt75P9vCaNTQiC9YsEB1f2RfOiI544wzMpGGHjCHUEAMPvzww8zpbHg+e0PF7DUK+sxo7JeFhYM4c2PLli1q76x84gRh0l0n2sYwD9oJg3MCqhdNJAFPBCgenrCZfSiMRi3X7rkolT7SE+sJsEki+uF37NihTnVzRh44BxoXTn3TR6U6d+N17oWFAVdEMUgT0QqOBcVRpujHx4lv+QbkIR46+sledxCGB8LgHIadTJME4kCA4hEHLxSwIYxGLXstAWbz7N27V1555ZVMV1Wubitn9xGORcWF6CDXRoz43PnZ5ZdfLvjZvHmzWi2NkwObN2+eVzz0rrx69hEEDyufcR5JGFcYnMOwk2mSQBwIUDzi4IUIxEN3NTkHuPU0TufOujh+9vTTT1cRCX5v0KCBYJt3fdY0xiQwQI51H3oA3Tlg7tyBV694RiSSPcaBQXLnUbf5zpLGmExYUQjFIwEvA02MDQGKR2xckd8QNmpmnETOZjgzFzsIUDwS4Ec2amacRM5mODMXOwhQPBLgRzZqZpxEzmY4Mxc7CFA8EuBHNmpmnETOZjgzFzsIUDwS4Ec2amacRM5mODMXOwhQPBLgRzZqZpxEzmY4Mxc7CFA8EuBHNmpmnETOZjgzFzsIUDwS4Ec2amacRM5mODMXOwhQPBLgx2bNmskbb7yRAEuTbWLTpk1l+fLlyS4ErScBQwQoHoZApymbd955R60Wx6mDvEiABOwkQPGw06+RloriESl+Zk4CRghQPIxgTlcmFI90+ZulTScBikc6/R5qqSkeoeJl4iQQCwIUj1i4wS4jKB7R+BPb6uOYX+xwjHNS4nBln6selk3ZRwzkyseNLfpoAa8nVvp9Piw+YaRL8QiDasrTpHhEUwEoHh1lwIABvoQzTY2/31pK8fBLkM8fRYDiUXKl0I08zk0ZP368Og9lyJAh6iGca4KzUmbNmqXOhseljwXGfbickQXON8HZJ7iQBp4vNvJA+vfdd59KA2tdkCZOfNRnvbRs2VL9Deeo6MZVn/mijwXGeS/I23m9+uqr6rjhxYsXi04Dh3khOtJXLludZdL35Tp+2GkLZvfh8DGIB/7VTJzPX3zxxeo0TJyKibJoP+AefZYMfsfRzDrycLJ3csCzSAfXCy+8kPGZ87A0RH/OPLJ9l/Smg+KRdA/G0H6KhzvxQGOPxk43vGggW7VqpU5fxBG9o0ePVue8oxHv06eP+jsa1pEjRypxwYXPcCKjMx0v4oF0xo0blzkWGHnpb/H6aGLYM3fuXNm4caP6DF1FuY4JdnYPQYR0g43fIVIQFAgjyqIPCNOHhmWTyz6i2Pm50661a9fm7LJzPo9nc9miG/zKlStL7969M+KBY5DzcXDmp0+8zH4eh6MVW94Yvs55TaJ4JMlbCbGV4uFOPHQj7xQE3ZAhBd1Ya7FAg6v79vGtFufAOz/z2m2lIw/dqCMdNMw62nCKwaJFizLikauU2WmVNM6AfHAcMcqZSzxKGsfI7l7K1d2U/Xx2OZzCpW3Rp2ki8sCVjwMiKOdnYAVRdYpP9rhTofIm5PXOmEnxSJrHEmAvxSM48Rg1apTq+tANuRfxyNfVpK3MbuCzu1pwn7MrzdlF5YxycjX22Wlnd2/p7qJs8dA26/Prc0Ukzqggn5g4n88Wj+yuLXRLPfvss/Lwww+rbitczi42JwdEUU7hyycebsubgNf6KBMpHkn0WsxtpngEJx7oJiop8kADqBtwP5FH9lhASRGBLp2zSyi7rz+XMGV/Wy/pmzgaXURWEIhcV6HII9fzbiIoZ7rINx+HbNtziUd25MLII+YNF82LngDFIzjxMDXm4RSP7AgCDSMaUfyLAX7dqOsxj/79+6tv67miBGeD7RSPMmXKqLEF3T3njDzQ8OPCuEpJl3PMxDkGsWzZspzPZ4/FOMcj9PiJs9sqe8zDyQFlKRR5OMWjpPJG/8Z6s4CRhzdufKoEAhSP4MQDjapzxk/2TCxnF5Of2VZO8YD1+fLUwoIZVLgQ9ehGVv9Nl945AQB/011CmKmFcgwePFjNVNKzn3BPdhebTktPLnCSzZ5tVb58eTXh4MUXXxQ9G8z5fPv27fPOttIzqXQjn2u2lZO9m8hDD6SXVN4kNyQUjyR7L6a2Uzxi6hiaRQIBEqB4BAiTSf2DAMWDNYEE7CdA8bDfx8ZLSPEwjpwZkoBxAhQP48jtz5DiYb+PWUISoHiwDgROgOIROFImSAKxI0DxiJ1Lkm8QxSN4H2J2D6aglrSC2U+uztlDWJhY0hoLP/nwWXsIUDzs8WVsSvLee+8JGiBM1eQVDIGwxcNpZaEFesGUiKkknQDFI+kejIn9mHOvF3ox8ijsFOd6iezdWnPtOptPPPD3Hj16qI0S9SpvvcYBazD0WgO9biF73yotFNiIEYveGjRoIHfccYcqgN7JNtfus/C1swzYZmTv3r1qHQX24Mq3G21hMrwjKQQoHknxVMztHDFihMyfP1+tQD506JDa4nrNmjUyZcoUGT58uMybN09q1qwZ81KYMS97aw29tQUWseXbhVWvoJ48ebK8/fbbmb2XnKucs3eZ1aICP+DSu/JiQ0Cs7obYDBw4ULp06aK2YNdpObutnBsdOnef1bv4Il387tzcEbvJIi8IFv512pVv91wz5JlLkAQoHkHSTHFaOGsCu4iWLl1arTjesWOH7NmzRw4ePChVqlSRDRs2pJjOkUV3c6IdnnCOQ0A8nGMeiCiWL1+eWZ1d0saAOqrA7rWIJk4//XTZv3+/4HyLSZMmqZXeSD+XeGRvm65twpYk2CZeRxr5tj7HuRnZO+2yIthBgOJhhx9jUQp0vyxZskTZUrZsWTlw4IBUqFBBZs6cqbaN4PUPAtldR04uuXZh7d69u9x6663q3A49YI5nsB3H9ddfn/MMDnyuu6TAHuduPPDAA6p7q3Xr1kp46tevrwQJkUO+AfNcBzPBzxAcHP6kt3F3igeiGOd25SWdycE6kVwCFI/k+i52liP6aNasmezevTtjW506deSjjz6Kna1RGpQv8sgWlZIiD3QJoXtI70mVvSdT9pbmiDowgwpnTtxyyy2qe/H777/PiE9J4qEPf3IyyxYERh5R1qho8qZ4RMPd2lyd0QejjtxuzrVrLcYhMObx2GOPqfGD7F1Ys7ut9AC4c2ZUvjEPfWofxp0QdWAcAmICERs2bLM51GEAACAASURBVFjmSNZCYx5Ix5kHxkZwcczD2te5xIJRPNLp99BK7Yw+GHXkx5xrNpIWjFy7sGIL8FzrPHKdqeGcbaVPs8sed9CD9Hrbc2fkgTNEcE5IrtlWzplhztlWjz/+uPztb3/jbKvQ3qz4JUzxiJ9PEm8RGpjVq1fL7NmzOdaReG+6K0BJ4zjuUuBdSSNA8UiaxxJg7/r169UiwalTpybAWprohUD2uRvZ54x4SZPPJIsAxSMB/ipVqlQCrLTDxMOHD9tREJaCBEImQPEIGXAQyUM82KgFQbLkNMg5fMbMwR4CFI8E+JKNmhknkbMZzszFDgIUjwT4kY2aGSeRsxnOzMUOAhSPBPiRjZoZJ5GzGc7MxQ4CFI8E+JGNmhknkbMZzszFDgIUjwT4kY2aGSeRsxnOzMUOAhSPBPiRjZoZJ5GzGc7MxQ4CFI8E+JGNmhknkbMZzszFDgIUjwT4kY2aGSeRsxnOzMUOAhSPBPiRjZoZJ5GzGc7MxQ4CFI8E+NH2Rs3tyXphu8p2zmHzY/rpIkDxSIC/bW7U9LbecAO2CcexpVFdNnOOiinztZcAxSMBvrW9UYOA4JhUfTBRVC6xnXNUXJmvnQQoHgnwq+lGDWczNG7cOHMYEBp3HBDUtm1b6dmzZ+bAHyc6dD0tWLBAevXqVTRRikfRyPgACUROgOIRuQsKG2BaPGARBAQn1+GkORw9igu/L126VOrVq3dE95Lfxt/v84UJursjCs7uLONdJBA/AhSP+PnkKIuiaNQQSUyaNEluvvlmwdnX5cqVk1tuuUVwlnbz5s0zNjqPIi2E0nmEqfNeikchcvycBOJHgOIRP5/EQjzQoI8YMULOPPNMadasmSxfvlzOO++8o6IOGOu38ff7fFAujEKkg7Kd6ZCAaQIUD9PEPeQXRaOGBl2Pb8DkDh06SJ8+faRjx445S8AxDw+O5SMkkGACFI8EOC8q8cAg+V133SV+hKEQXme3V75urUJpBPV5FJyDsp3pkIBpAhQP08Q95MdGzQM0D4+QswdofCS1BCgeCXA9GzUzTiJnM5yZix0EKB4J8CMbNTNOImcznJmLHQQoHgnwIxs1M04iZzOcmYsdBCgeCfAjGzUzTiJnM5yZix0EKB4J8CMbNTNOImcznJmLHQQoHgnwIxs1M04iZzOcmYsdBCgeCfAjGzUzTiJnM5yZix0EKB4J8CMbNTNOImcznJmLHQQoHgnwIxs1M04iZzOcmYsdBCgeCfAjGjVeZggcPnzYTEbMhQQSToDikXAHxtH8d955R7p27Spr1qyJo3m0iQRIIAACFI8AIDKJIwlQPFgjSMB+AhQP+31svIQUD+PImSEJGCdA8TCO3P4MKR72+5glJAGKB+tA4AQoHoEjZYIkEDsCFI/YuST5BlE8ku9DloAEChGgeBQixM+LJkDxKBoZHyCBxBGgeCTOZfE3mOIRfx/RQhLwS4Di4Zcgnz+KAMWDlYIE7CdA8bDfx8ZL+Prrr0ubNm2kXLlyxvNmhiRAAv4I/Prrr9K9e3cZNGhQiQlRPPxx5tM5CEyfPl3uvvtu2bhxI/mQAAkkjMC6devkj3/8o6xdu5bikTDfJd5ciAe2Jzlw4EDiy8ICkEDaCLjtdmbkkbaaYaC8FA8DkJkFCYREgOIRElgmW5gAxaMwI95BAnElQPGIq2dSYBfFIwVOZhGtJUDxsNa18S8YxSP+PqKFJJCPAMWDdSMyAhSPyNAzYxLwTYDi4RshE/BKgOLhlRyfI4HoCVA8ovdBai2geKTW9Sy4BQQoHhY4MalFmDlzptx7772ya9eupBaBdpNAaglQPFLr+mgK/t1338mpp56qMmfkEY0PmCsJBEGA4hEERabhmsBVV10lq1atkj//+c9y8ODBzArzLl26yLRp02TevHnSsmVL1+nxRhIggWgIUDyi4Z7aXF988UXp0KGDlCpVSsqWLSs//vij/PLLL3L48GE57rjj5NChQ6llw4KTQJIIUDyS5C1LbK1UqdJR4xwQkyFDhkj//v0tKSWLQQJ2E6B42O3fWJYO0ce///u/q2hDX6VLl5affvoplvbSKBIggaMJUDxYKyIh4Iw+GHVE4gJmSgK+CFA8fOHjw14JOKMPRh1eKfI5EoiOAMUjOvapz1lHH0OHDuVYR+prAwEkjQDFI2kes8jeOXPmyH/+53/KF198YVGpWBQSSAcBikc6/BzLUn700UfSo0cPGTdunPz+97+PpY00igRIIDcBigdrRiQEZs+eLYMGDZIPP/xQzj33XPX7TTfdFIktzJQESKB4AhSP4pnxCZ8EBg8erEQDg+b6at++vYo+ICK8SIAE4k+A4hF/H1llYUkikUtUrCo8C0MCFhGgeFjkzLgXxU33lLM7K+7loX0kkGYCFI80e99Q2TEwDuFAV5WbgfFi7zdUDGZDAiTgIEDxSGh1wNqIK664Qho1ahTrEviJJNxEKnEqPM4l6dixo1SrVk1Gjx4tJ554YpzMoy0kECgBikegOJmYk0AQYxhxG0ifOHGitG3bVipWrJjT2Z9++qlMmjRJUHaKB98HmwlQPGz2boRlC7LRD0KEgkCByKJfv34ybNgwikcQQJlGoglQPGLqvh9++EF69eolmzZtku7du0ubNm3UwUnoDpk7d6506tRJVq5cqbqt8G0XZ2SsW7dOnc6HrpMorzC6m/x0fwXBQndJLV68WOrWrSuzZs2SNWvWKD/g0tydkceoUaPkoYceUlvNDxgwIAgzmAYJxIYAxSM2rjjaEN1gQSB69+4tAwcOFJy4V7VqVSUsnTt3ltq1a2e+DSOFnj17qrUStWrVMl6ysAe6w06/EDBn5IF7dRSyc+fOTFfVli1b1O/33XefLFy4UO66665CyfJzEkgkAYpHjN3mbKzKlCmTUzywuaCOOnRRdERismgmI4MwIhs3rHJ1W+FI3caNG2eiQogHRB7bzI8dOzZv95ab/HgPCcSZAMUjxt5xKx5RD9BGMSYR5JiK2yqQ7Q9Ef5UrVxbYon0A8UDkd/LJJ6vIMO6z4dyWnfeRQDYBikeM6wT6z9EQ4RtsvsgD3VYY40CfOhoqfBPGZarRiqIR1y4zLVpO8cjVVQV71q5dK9OmTVNbzD/88MMlDq7HuOrRNBIoSIDiURBRNDfoAfNnnnlGdYmUL19eRo4cKS1btpQbbrhBunXrpn6fMWOGoCHTXVd6UN3ENNGouo+cHjHZXaZ98tZbb8mECROUsGMAXV99+/aVd999V/0Ng+S4MGBu0ifR1FbmmkYCFI80et1nmaMeuM42P272+MTLx0kgEQQoHolwU3yMNPlNv9hSxyESKtZm3k8CSSVA8Uiq5yKw2/QYg5ciRjkG48VePkMCSSVA8Uiq5wzbnaRGOQkiZ9h9zI4EAidA8QgcqX0JJrE7KM7da/bVEJYojQQoHmn0ussyJ30gOun2u3QTbyOBSAhQPCLBHv9M4/DNXe/ZBVrYS8rrlitJjJziX0NoYdoJUDzSXgNylD8OYwZYU6H38sIWLOPHj1f7e3ldv5KkMRtWSRJIAgGKRxK8ZNDGMBtZvcgOW3oU2mUWK+WXLVuWuS+Iw6/iIIoGXcmsSCBUAqkTj+3bt8uBAwdChZrExE866SRp1qyZWjV90003eSqC8yQ9bM9x55135jxVT28miEzyrb7Gynlcenv57P97MlBEdHcchGn//v1ek0ncc2eeeaba4oYXCQRFIFXigbMxcArcvn37guJnVTo4K6R169aeywTxwN5OX375pXzzzTfqmFzsy1XS7rJ6XKNPnz5HnEMSlnigcPPmzZP7779f7Xybhuvnn3+WJk2ayHPPPZeG4rKMhgikSjzcFtYQ+9hlE8TAMrqXtm7dqs4bwZ5bzq6n7ALre3Od9x2WeMRhIoBpx7Pemyaejvzc1qtShw8fPpx0JG4Lm/Ry+rHfz5gHIg8cRnXHHXdI8+bNJXucwrnZI2ws6dwRjnn48eKRz7LeB8eSKf2TgNt6RfFIUa3xOrDsbPCd28lXrFixaHrO2VZ42O+ZJX5EsWjjY/aA25c8ZmbTnJgTcFuvKB4xd2TQ5nnp3nFGGnpQ3M/53VznEYxX3b7kweTGVNJCwG29onikpUY4ypn0FdpJtz+oKuf2JQ8qP6aTDgJu6xXFIx31IWcpgxhIN43PS+Rk2kZT+bl9yU3Zw3zsIOC2XlE87PC351IkaczA65iNZzgxf9DtSx7zYtC8mBFwW68oHjFzXBTmJKFRTpLImfKh25fclD3Mxw4CbusVxcMOf/suRZy7g5LYvebbIS4ScPuSu0iKt5BAhoDbekXxYKXJEIjbQHTc7IlbVXH7ksfNbtoTbwJu6xXFI95+jMS6OHzTj3MkFIlTcmTq9iWPi720IxkE3NYrikcy/GncyijHGJIwBmPcIRSPOCBPhQ0Uj1S4OdxCRtGIRyla4dIMPnW3L3nwOTNFmwm4rVeMPGyuBQGUzWT3URy6ywJAZiwJty+5MYOYkRUE3NYriocV7g63EGEPXIedfrh0okvd7UsenYXMOYkE3NYrikcSvRuRzWFEBiYjm4iwBZotNpbUR/a6fckDNYCJWU/Abb2ieFhfFYItYJBjElGMqQRLw3xqI0aMkPnz56uz3w8dOqRObFyzZo1MmTJFhg8frg7EqlmzpnnDmKM1BCge1rgyfgUJotEPUoTiRyg8i9atWyeNGjWS0qVLS+3atWXHjh2yZ88eOXjwoFSpUkU2bNgQXuZMORUEKB6pcHN0hfTT3RRG91d0JMzn3LJlS1myZInKuGzZsnLgwAGpUKGCzJw5U1q1amXeIOZoFQGKh1XujGdhih3oLvb+eJY6eqsQfTRr1kx2796dMaZOnToCvrxIwC8BiodfgnzeNQE3kYSfSMW1ISm60Rl9MOpIkeMNFJXiYQAys/gngZLGMIIYIyHrIwk4ow9GHawdQRKgeARJk2m5IpBLJDgw7gqdp5sQfaxevVoQ1XGswxNCPpSDAMWD1SISAs7uKTfdWZEYaUmm69evl1GjRsnUqVMtKRGLEQcCFI84eCGlNmDgtkePHjJu3Dj5/e9/n1IK4Rd78+bNctttt8mf//xn+d3vfhd+hswhFQQoHqlwMwuZVgJvvvmm3HrrrbJp0yapVq2aij6aNGmSVhwsd4AEKB4BwmRSJBAnAhAKrCh/4403MmY1bdpUbr/9diUovEjADwGKhx96fJYEYkoAkxK+/PJL1VWVfaELq3r16jJw4MCYWk+zkkCA4pEEL9FGEiiCACILjG0MGjQo71P4DGMhiEx4kYAXAhQPL9T4DAnElABWlKNLCtFFoQtRCbq2li9fXuhWfk4CRxGgeLBSkIAlBNAVhUgC4xpuL4yHIFJBFxcvEiiGAMWjGFq8lwRiSADdT5hJBQHAv8VemIkF4cG/nMpbLL303k/xSK/vWXILCDin4votDqfy+iWYrucpHunyN0trEYFcU3H9Fo9Tef0STM/zFI/0+JoltYhASVNx/RaTU3n9EkzH8xSPdPiZpbSIgJupuH6Ly6m8fgna/zzFw34fs4QWEShmKq7fYnMqr1+Cdj9P8bDbvyydRQS8TMX1W3xO5fVL0N7nKR72+pYls4SA36m4fjFwKq9fgnY+T/Gw068slSUEgpyK6xcJp/L6JWjX8xQPu/zJ0lhEIIypuH7xcCqvX4L2PE/xsMeXLIlFBMKciusXE6fy+iVox/MUDzv8yFJYRMDEVFy/uDiV1y/B5D9P8Ui+D1kCiwiYnIrrFxun8volmOznKR7J9h+tt4hAFFNx/eLjVF6/BJP7PMUjub6j5ZYQiHoqrl+MnMrrl2Ayn6d4JNNvtNoSAnGaiusXKafy+iWYrOcpHsnyF621iEAcp+L6xcupvH4JJud5ikdyfEVLLSIQ56m4fjFzKq9fgsl4nuKRDD/RSosIJGEqrl/cnMrrl2D8n6d4xN9HtNAiAkmaiusXO6fy+iUY7+cpHvH2D62ziEASp+L6xc+pvH4Jxvd5ikd8fUPLLCGQ9Km4ft3Aqbx+CcbzeYpHPP1CqywhYNNUXL8u4VRevwTj9TzFI17+oDUWEbBxKq5f93Aqr1+C8Xme4hEfX9ASiwjEZSrurl27pGPHjrJ48WKZPn26+t15rVq1Sho3bqz+lOvzYlzyww8/SK9eveSZZ54pMa0gpvKiXD179hTM6qpVq1ZOM3XZBwwYII0aNSqmKLzXBQGKhwtIvIUEiiEQt6m4n376qXTo0EH69OlzhHigcZ07d67cddddou8ZN26c54Z2xowZChMEavTo0XL11Vfnbdj9TuWFvffdd5+MGTOG4lFM5QzwXopHgDCZFAnEcSpuPvHI9tbQoUOlRo0aRwgMIpMePXrIrFmz8jbSSAdC1K9fPxk2bJhUrFhR8NyyZcsE3/rzXV6n8jojnK5duyqhGjVqlDz00EMqq5YtW4pTyGBDpUqVcgooa6x3AhQP7+z4JAkcQcDtVFzdmLdr107at2+vGjX87mxo0ZCjMXz88cdVl9P27dsFje2ECRNUt9DKlSszEYK+F8bk+jsijiVLlhwVeWS7z9ngOj9zNtbZeej7UKZJkyYJuutOPPFEFck4/5+vquipvG+99Zbs37/fdY36+9//nok8IAwQr5o1a4q2tXPnzlK7dm0lhN27d5cXXngh08X1xRdfuM4niBtPOeUUJai2XRQP2zzK8kRCABHHww8/7KrLBw3dnDlz5De/+Y28//770rBhQ/V/fINGw4tLC8wZZ5yhumbQRQMBQbcSxAJ9+BAbZ2SwZs0aGTlypIoSdu7cmYkY8PdOnToVHNOYOHGitG3btmBDh/yRL8RGN4pexUOLEcZBirleffXVo7qtskVUi0f2eM/ZZ59dTFa+7z311FNlxYoVcvzxx/tOK04JUDzi5A3akmgCbqei4tvxwIEDZd++faqbZ9GiRarczsFsZ1dTq1at1GcQjHvuuUf9jrx0d41uyD/55BM1+I3oA11G+u8QklxjHk7YyA92XXjhhXl9UNK4iFfx8DqV2TnmAYN1+SB+GLQvKfIwXclOOukk2bZtm5QrV8501qHmR/EIFS8TTxsBN1NRnQ1f1apVlZB06dLliDEFk+KBSGj8+PHSu3fvTOSj/eacjaXHF3R05PStlzEPP1OZs8UDA/Bjx45VEReEBBGajjx0d+C0adOOiO5M1U2Kx+HDh03BDisft0oZVv5MNx0ECk1FdY4toHHO1ai5FQ/MltJdVc5uK91VhSgEFyKSXFNxsxv9pUuXSr169Qp2XeXypC4Xvv3nEkTnM36nMutpuIjAHnnkEfnTn/6kxoIgcOXLl5e6deuKjtggHigTIpLLLrvsqOnKYddKigfFI+w6xvQtIpBvKqrustKRBhrcXOMRuv8eM4fw88ADD6gGEd1WaCBx6cHxXAPmzkHuFi1ayDfffKOecc6a0gK1bt26DPkhQ4aUOEOqJBe5XecRt6nMYVc7igfFI+w6xvQtI+B1KqplGI4oThynMofNm+JB8Qi7jjF9CwlwV9l/OtXtVGbbqgHFg+JhW51meQwRSPuusmnfVZjiQfEw1NQwG1sJuJ3Ka1P5vU7FtYkBxYPiYVN9ZlkiIuBmKm9EpgWerZ+puIEbE2GCFA+KR4TVj1nbRKDQVF4byup3Kq4NDHQZKB4UD5vqM8sSMQG/u8pGbH6J2adtKm4hX1A8KB6F6gg/J4GiCNg4lTeNU3ELOZ3iQfEoVEf4OQkUTcCmqbxpnYpbyOkUD4pHoTrCz0nAE4GkT+VN+1TcQk6neFA8CtURfk4CvggkcSovp+IWdjnFI6Higf129C6g3BixcEXnHdESSNJUXk7FdVdXssXjl19+kWOOOcbdwzG+y217WupwQsVjxIgRMn/+fLXl9KFDh9SmcthxdMqUKTJ8+HCZN2+eOoGMFwnEhUASpvJyKm7+2rJ69Wp1nsgTTzwhrVu3Fi0e//M//6PaHxyZe91118Wlunm2w3rxwI6hOESndOnSan//HTt2yJ49e+TgwYNSpUoV2bBhg2d4fJAEwiIQ56m8nIpb2Os4NRCHP+GI3C1btghOL/z666/l+++/V8ftnnDCCYUTifkd1osH+GNLa5zhjKts2bJy4MABqVChgsycOVPt+c+LBOJIII5TeTkV111NQa8GzjRBb0eZMmXUl1UIRrdu3dSBVDZcqRAPRB+o9Lt37874rE6dOvLRRx/Z4EOWwWICcZrKy6m4xVU0jLX++OOPmYeOPfZYFXnYEHWgUKkQj+zog1FHcS8B746WQNRTeTkV15v/ndGHbVFHqsTDGX0w6vD2MvCpaAlEMZWXU3H9+VxHH7ZFHakSDx19YCbE7NmzOdbh753g0xERMDmVl1Nx/TtZRx84PtiWsQ5NJTXdVijw+vXr1TQ5vBS8SCCpBExM5eVU3OBqR/PmzeXll19WA+c2Xa7Fo2nTpocxeMcrHgTwDXT58uXxMIZWGCcQ5lTeOE/FLVWqlHHWac2w0NI+1+IhIkldJ2il7/ESFXKulQVnoTIEwpjKG/epuKz3Zl4AN5wpHmZ8EXgubpwbeKZMMHYEgpzKm4SpuKz3ZqqgG84UDzO+CDwXN84NPFMmGEsCfqfyJmkqLuu9mSrohjPFw4wvAs/FjXMDz5QJxpqAl6m8SZuKy3pvpgq64UzxMOOLwHNx49zAM2WCsSdQzFTeJE7FZb03UwXdcHYtHphtxdk9ZhznJhc3znWTDu+xj4CbqbxJnYrLem+mvrrh7Fo8ONvKjNPc5uLGuW7T4n32EShpKm+cp+IW8gTrfSFCwXzuhjPFIxjWxlNx41zjRjHDWBHINZU37lNxCwFkvS9EKJjP3XCmeATD2ngqbpxr3ChmGDsCzqm8SZiKWwhg0PV+165d0rFjR8FkA2wfgr2oJk6cKG3btlUHyNWoUUN97rxwOil2qsCWIxUrVixksvrcSz4lJfzpp59Khw4dpGHDhlK+fHl14NSAAQNc2eLmJjecUyEeQ4cOlSuuuEIdCmXL5ca5tpSV5fBH4C9/+Yt06tRJ8C8aySRfYdR7NOz9+vWTYcOGySeffCJoL2bMmCE7d+4UCMWFF154BDKv7Umx+eTzE4QD3ZJjx45VNkJExo0bF2j75oZzKsQjyS9LPtvdONfGcrNMxRNw+5IXn7L5J8Ko9xAIHNx08803qy1/tm3bJg8++KCsXLlSWrRooaIRfUE4HnroIVcFx/POL6zF5KMjFUQTudLo0qWL1KpVS0U0WvjcRkFujHfD2W29woYy3J7EDXVD97hxriFTmE3MCbh9yWNeDGVeWPUeXVY4HhZnjs+bN0/1VODU0eyoAzZ4jTzwbDH55PLHqlWrZNmyZZkuKkRIGzduDLTLyi1nt/XKiHgABMLrIUOGKOc1btxYHSGLvy9atEgeffRRdXwsFH369OmqX7JXr17y97//XXHGGcG4/4EHHlAHzcNRc+fOVWnqbwFwPBzQvXt3db4wLuSjr7p168qsWbPkxRdfVH9y9iMG3W/p52UN6yXyYxOfjScBty95PK0/0qqw6j3aBYxv6DZFN/TOqENb4mXMwxm5uM2nkHjo9jI7wgnCj244u61XRsQjW9XRtzdp0iTBnHQ03LjgTGeY9t5776nwDWcEY2Crc+fOmQpw2WWXZX7H32vXrq3EBBUE9zqFAaGhm28UQfVb+nWwG+f6zYPPk0DcCIRV7/UgObZNL3YwvBhGfvPRA+U43O6ZZ56RtWvXCrangZCkvtvKGZYtXbpUOXLMmDGyZcsWqVevngIEULggAoCJ0DK770+Hc71791bRCcQDz+P3XN8qdJrZMyuyK0Yx/ZbFVKpi7w3rJSrWDt5PAiYJsN6boe2Gc+wiDy0C/fv3VzMJ0P+IMA+zRPTAkY5IMGiEfskqVaocJR4QISiyDkMhHs7nnTMUnBFOrjA1211++y2DcL8b5waRD9Owg4CbqDoJJWW9N+MlN5xjJx74Zo/o4PLLL1c/2PFz2rRp0q5dO8GJXM6+w3Llykm3bt1UVxZEp2fPnmoKW9WqVY+KNnS3FeZuIxpBJLNgwQK55ZZbjugGQ7SjI5x8biqmfzQsV7txblh5M10SiIoA670Z8m44x048gAZdSCtWrFAD3hjL0KKAsQ196chCdzNp8fjuu+9kyZIlakAdn+lBJQykP/XUUzJ//vzMMbTYGO7pp59WfYf60gP0EBlcuRbe+O23DML9bpwbRD5MgwTiRID13ow33HCOpXi4wYOZVbjQZYUrrPnObmyJ4h43zo3CLuYZDQEdsaOrFjMJ27Rpk3fGoXPQVX/Jisbq4nNlvS+emZcn3HBOrHjgQHnnAh6Kh5cqwmdsIqCnkmNsD12zWPiGcUFnNy5mHOrZiih7rqg+zkzQqPEyQ6DQMdeJEw+9wtM5t1l/60L3k17f4Wbg24wLwsnFzTeDcHJmqnEl4PwChSmnucQDa5swWQRTPfUVxjqBuDKKwi7sO4VV6xijtelKnHjYBN9PWSgefujZ+axb8dBrp2z/ghUXL1M8uD1JXOqisoPiESt3xMIY54Z5+SIPdFvpBbLo3sLEE1w2bRoaC2c4jKB4UDxiVScpHrFyR+TGZHfdYpvukSNHqu16brjhBjWlXc8k1DuxousqLd28UTqI4kHxiLL+HZU3xSNW7qAxJJCXAMWD4hGr14PiESt30BgSoHjkIWBsY0TWQXcEKB7uOPEuEoiaACMPRh4l1sFvv/1Wtm7dqraF37Nnj5xyyilqAWPlypXltNNOC7z+UjwCR2ptgm6nVFoLIOKCUTxSLB5fffWVEgUtDrn+Pfnkk5VQQDD+5V/+Rd59993MM3v37s18pu/J/ve3v/1tUVWc4lEUrlTfTPGI1v0Uj5SJx5tvvikvvfSSzJkzR4499thMFKGjiex/S5cunbeGHjp0qEThgTDhQCts/njjjTdKkyZNCtZ2ikdBRLzhUDgnLwAAFiNJREFU/whQPKKtChSPFIgHNlSEWODnvPPOUw05GvQzzzwz9NqHFajIF4L1wQcfqHzxgy1Ycl0Uj9BdYk0GFI9oXUnxsFQ8sMuubrQvvfTSTKMd5KlcxVZdrBTWIrZ69epMRHLttddmkqJ4FEs1vfdTPKL1PcXDIvHQDTP+xTd73V0Ux71n9u/fnxE3REY6IkFUVGjjsmhfGeYeFwIUj2g9kXrxaNq06eFTTz0103gdf/zx0XqkiNx/+umnzDd5nPeBqEI3wiWNVRSRhZFbMXaihQ/RyfLly43ky0ySTYDiEa3/Ui8ehw8fPjx37txM4/Vv//ZvmQYYWyHE7dq3b1/G1tdeey1jK46l5UUCaSJA8YjW2xSPrD6SV199NdM4169fXzXOaJhPP/30yDy1Y8cO0QL3t7/9LSMY11xzTWQ2MWMSiJoApo0PHjxY/vu//ztqU1KZP8WjhA52fLNHdwoa7po1a2Ya7WLXLnipWViDobtyNmzYoAQMQobIiBcJkIAII49oawHFw+XoLA6W0Y051i7kWxeh/46to/NdOL+8pIV5WB+BNRh6/KJx48bR1hLmTgIxJEDxiNYpFA+X4uF0E9YuFFqZjYF3vdr6oosuUt+S9DMY6M63Ilv/3cQajGirHnMnAX8EKB7++Pl9muLhQTzcQN+9e3cmusBMKMzo0lFJhQoV3CTh+h6I2bx58+Tuu+92/QxvJIGkE3j99delTZs21h2DmhS/VKtWTd544w1J0gxVN2zdfikphdlWbhKM8z1uCxvnMtA2EiiWwPTp09UXpo0bNxb7KO8PgEDZsmUF0Ydtl9v2lOJhm+dZntQQgHjgxMADBw6kpswsaPgEKB7hM2YOJBApAYpHpPitzZziYa1rWTAS+AcBigdrQhgEKB5hUGWaJBAjAhSPGDnDIlMoHhY5k0UhgVwEKB6sF2EQoHiEQZVpkkCMCFA8YuQMi0yheFjkTBaFBBh5sA6YIkDxMEWa+ZBARAQYeUQE3vJsUyUe2HOrR48esn37dsvdyuKRwD8JUDxYG8IgkCrxePjhh+Whhx6SX3/9NQyWTJMEYkmA4hFLtyTeqFSJxyOPPCL9+/eneCS+2rIAxRCgeBRDi/e6JZAq8Xj00UelX79+FA+3tYP3WUGA4mGFG2NXiFSJx4gRI+SPf/wjxSN21ZAGBU3gv/7rv2Tv3r0yZMiQo1aY48A0fF69evWgs2V6KSKQKvEYOXKkPPjggxSPFFXwtBb15ptvlueff15Kly4t1157rSxatEguvPBCWb16tUJiwSbZaXVtbMqdKvHAt60+ffpQPGJT/WhImAT+3//7fzlF4rLLLpO//OUvYWbNtFNAIFXi8fjjj0vv3r0pHimo2CyiSJcuXWTy5MlHoWDUwdoRBIFUiccTTzwhDzzwAMUjiJrDNBJBIDv6YNSRCLclwshUiceYMWPk/vvvp3gkomrSyCAIZEcfjDqCoMo0QCBV4oHzy2+66Sb58ccf6X0SSA0BHX0w6kiNy40U1HrxOHTokJpxgmvHjh1y/vnnyzfffGMELjMhgTgQ6NWrl6DLllFHHLxhjw3Wi8e0adPUwsAnn3xS8M2rTp068u2336r/Y7X5a6+9Jg0aNLDHoyxJ6AQGDRoUeh7M4B8EyDq+NcF68UAXVbly5dRPmTJl1MKpY445Ro17nHTSSbJt27b4eoeWxZJAqVKlZODAgbG0zSajBg8ezGgpxg61XjzAHtNzx44dKz/99FPGFWXLlpVnnnlGOnbsGGP30LQ4EoB4sAsofM+Qc/iM/eSQCvHAi45BQ+d12mmnqTEQXiRQLAE2asUS83Y/OXvjZuqpVIgHYGLcAyvMEX0g6sC03TvuuMMUZ+ZjEQE2amacSc5mOHvNJTXiAUB6rOOUU06R3bt3e2XG51JOgI2amQpAzmY4e80lVeKBmRuPPfaYikC6d+/ulRmfSzkBNmpmKgA5m+HsNZdUiQe6rO69914ZP368HHvssV6Z8bmUE2CjZqYCkLMZzl5zsUY8du3aJevXr5cPPvhATb/dsGGD7Nu376ifevXqydq1a6V8+fJH/dSsWVPOOussOe+889RiwlNPPdUrVz5nMQE2amacS85mOHvNJbHiga1GcDYBCgDR+Pnnn1WDj4a/YcOGcvzxx+cUCIhGLlHB33744Qd5++23lQAhTaSBNC+66CK59NJL1bkIvEjARKM2dOhQeeihh9R08jlz5qgJHrVq1crAR10dNWqU3HPPPVKxYsWinVIo/ZIS/PTTT6VDhw7qPcP7hPVSAwYMKNqGQg+Y4FzIBn6en0BixAOrwl955ZXMT+vWraVFixbqhUIDf8YZZwTuZ0QwEBFEMYsXL5ZXX31VrrvuusxPpUqVAs+TCcafQNiNGhr2GjVqqDVI+H3r1q0yevRoOfHEEzNw8PcrrrhCGjVqVDQwN+nnSxTCgbFDrJvauXOnEpFx48Z5sqOQ4WFzLpQ/Py+ZQOzFA+cRYIuRDz/88IiGOwrHYr2IU8AuuOAC6dy5s9x2221RmMM8IyIQZqO2atUqWbZsWeab/IwZM1QpnYtZddTgpvgrV648omF3kz66gJEfogmnOCHawcp67NSLL224D1Pghw0b5in6KWR/mJwL5c3PCxOIrXjg4Kbhw4cLIoyuXbtK/fr1C5fG8B3o4powYYIsXLhQ+vbtq7Z752U/gbAatVyNc8+ePdU3fWeXFQh7iTyKST+XF3MJz8aNG0PpskL+YXG2v4aaKWGsxAP7TeFFgWhgVhQaZKwEj/uFXXph89NPP61sxrczVHxedhIIq1FzNu7oEsW3/2rVqh3VZQWqXsY8ikm/kHggIurUqZNkRzZBejwszkHamOa0YiMe+PaOMPn6669XDfBxxx2XOL9gKjBEBIP5jzzyiBqT4WUfgTAbNd0l1bJlS7UWqU2bNjJ9+vTA9mDzk74eKF+3bp0ayMesxU2bNgmExMugfaGaESbnQnnz88IEYiEeeEk2b96sGl2sAk/6hZlfmJl1zjnnqIFFXnYRYKNmxp/kbIaz11wiFQ8IBqbAIuLo1q2b1zLE9jnMQhkxYoSaUlylSpXY2knDiiPARq04Xl7vJmev5Mw8F5l4fPHFF0owpk6dqhbm2Xp99dVXcvvtt8vEiROlevXqthYzVeVio2bG3eRshrPXXCIRj08++URuuOEG+fjjj73anbjn0IWFcZ2zzz47cbbT4CMJsFEzUyPI2Qxnr7kYFw/MTKpbt65s377dq82JfQ4zaDDoGMbgYmKhJNBwNmpmnEbOZjh7zcWoeBw8eFCwtxQij7ReiDwQcSVxNllafZZdbjRqPFs7/NoAxjyxMXzOXnMwKh6YhovVqdjiI63X3Llz1dRG7FfEK5kEkiYc2GYHMxnvvvvuxAFPGuvEAfZhsDHxwIyjPn36CFappv1q0KCBPPXUU7FcNZ9239hYfrcvuY1lZ5nCI+C2XpU67DN+vPzyy9UeOJdddll4pUlIysuXL1fbS2API14kEDYBty952HYwfbsIuK1XvsRj0aJFakdafNvm9Q8C2EobM86aN29OJCQQKgG3L3moRjBx6wi4rVe+xGPIkCHyyy+/yODBg40C1F1kXratDtvQ/v37qy22sSspLxIIk4DblzxMG5i2fQTc1itf4oE9/9u1ayft27c3StDLzqOmDHzhhRfk5Zdflueff95UlswnpQTcvuQpxcNieyTgtl75Eg+c7jdr1iw599xzPZpZ+DHMYBo5cmQmunn//ffVSWy4sLFcq1at1OZyONQJm87hfkwZbty4sWD7d/wdP2HuEuosBU4r/MMf/qAOm+JFAmEScPuSh2kD07aPgNt65Us8mjVrJhgkDuvCVtM4MArRDbqBMCivT2HTp63hJLarr75anYsA4VixYoXa6hpTZ/GsFhNEK2HtEppd/rC5hMWb6SaLgNuXPFmlorVRE3Bbr3yJh4nIA40+xjicDb/utqpdu/YRJ57hBDR9yM6aNWuUDyA2zr9nH74TtKMYeQRNlOnlI+D2JSdBEiiGgNt65Us8TI156OMzcTSsM/LIFg/nQTqYCabFw8sBO8XAdt7LMQ+v5PhcsQTcvuTFpsv7003Abb3yJR5hz7ZyNvpw5/jx46V3794yatQo0d1WiEJwYft37C+1YMEC6dWrl4pU9FGaiFzQhYXuLMyECvPibKsw6TJtJwG3LzmpkUAxBNzWK1/igYFobI8Q1sFIeswD4xfOQW99VGa+AXNsUIh7YBsG9PVAuomNC3EA1o033ihXXnllMf7ivSRQNAG3L3nRCfOBVBNwW698iQcIN23aVM2EatKkSayAQzx0t5Upw15//XV59NFH5bXXXjOVJfNJMQG3L3mKEbHoHgi4rVe+xeOtt95S3UR//etfPZgZ3iNRiMcll1wiTz/9tFx88cXhFYwpk8D/EXD7khMYCRRDwG298i0eMArbcdx6663Spk2bYmwM7V6McWCdBy5T6zteeukl1UU2e/bs0MrFhEnAScDtS05qJFAMAbf1KhDxOHTokGDmEwao03rVqFFDNmzYIMcee2xaEbDchgm4fckNm8XsEk7Abb0KRDzACtNpsYZi586dCUdXvPmnnHKKbN68WU4++eTiH+YTJOCRgNuX3GPyfCylBNzWq8DEA5w///xzueqqq+Szzz5LDfbq1aurVfbVqlVLTZlZ0HgQcPuSx8NaWpEUAm7rVaDiATibNm2SO++8UyZPnixVq1ZNCq+i7fzyyy/lrrvusr6cRYPhA6ESwPR1vVbJ7UseqkFM3DoCbutV4OIBkl9//bVgu3ScMIjtQmy7nnzyScEPBuPPOuss24rH8sSYwIgRI2T+/PlqwezPP/8sPXr0UDMdp0yZIsOHD1drm2rWrBnjEtC0uBOIVDw0nHvvvVet+kZlL126dNyZFbTvxx9/lGuuuUbOP/98eeKJJwrezxtIIGgC69atU1/M8D5hksqOHTtkz549cvDgQalSpYqatMGLBPwQiIV4oABLly5VmxdiLKRv376hbw/iB1q+Zw8cOKC+1WGVO/7F1ii8SCAqAtgxYcmSJSr7smXLCupnhQoVZObMmeqIAl4k4IdAbMQDhcAx6diDCg0vxgkgImeeeaaf8hl5duvWrcpmdAnAZuxbxYsEoiaA6APb/u/evTtjSp06deSjjz6K2jTmbwGBWImHk+eYMWNUg4wzvrt27SqXXnpp7HBjkeGECRPULCqIho3jNrGDToOKIuCMPhh1FIWONxcgEFvx0HY/99xzgp+1a9fKddddl/mJYpEdBh5feeWVzE/9+vUF27936tSJFY0EYknAGX0w6oilixJrVOzFQ5NF6O1suBGRtGjRQi04xMA0BgGDvr766it1TCwGFzGOgQ0NnQKGRX+8SCDuBBB9rF69Wm2Jw7GOuHsrOfYlRjyykS5cuFBNgX333XdVA//9998rEcGphQ0bNpQTTjhBypcvr1Zz40f/jn/37dsne/fuzfyrf8csKUxnxCl/SBPPIc2LLrpIdZvxxUtOxaal/ySAuoyzbaZOnUosJBAYgcSKRzYBCABeEjT827ZtU1N/tUg4haJevXqqC8wpKPp3zHuvXLmyEiCIBoSGFwlkEyhVqhShGCKASTS84knAGvGIJ15aZSMBiAcbtfA9S87hM/aTA8XDDz0+m0oCbNTMuJ2czXD2mgvFwys5PpdaAmzUzLienM1w9poLxcMrOT6XWgJs1My4npzNcPaaC8XDKzk+l1oCbNTMuJ6czXD2mgvFwys5PpdaAjY1avoo5rp166rjkbFuasaMGbJixQoZPXq0qz3mnMc5T58+XTp27BhI3bCJcyBAYpYIxSNmDqE58SdgW6MGsRg5cqQn8cDJoHPnzlV70WF6fIcOHWTcuHFqR1+/l22c/fKI2/MUj7h5hPbEnoBtjVq2ePhxADY2rVGjRiDRh22c/XCN47MUjzh6hTbFmoDfRg2NNfZDww4JOFFT/579bR3f5BcsWCC9evUqioeb9BExoHtp+/btapsfbN2ObqudO3dK48aNBVua3HDDDdKtWzeVN7qjcOWzVRuIvHEF0XXll3NR0Hhz0QQoHkUj4wNpJ+C3UYMovPjii3LBBRfI/v37ZePGjUd9W0fjjvNthg0bJhUrViwKuZv0ESHgKAGkj3zeeuutTLcVPsM4BoRg0aJFmS6tSpUqCewq6QTCiRMnStu2bYu2OVcB/XIuChpvLpoAxaNoZHwg7QT8Nmpo3AcOHCgNGjRQ3+zxe5cuXdRgNS4dFWAzzkIXIgQ08k6BcZs+Ip0BAwao551jHk7xQCSCcQwcFX3JJZeofPKJGfLF2ekXXnhhIbNdfe6Xs6tMeJNnAhQPz+j4YFoJ+G3UnLOZtmzZIpMmTZLBgwcfMbPJT+RRKH0tTm7Eo0yZMplus3bt2qnzdXJdSBPnpffu3dvVDC03dccvZzd58B7vBCge3tnxyZQS8NOo4Zu5M9IoaYDZy5iHm/RxD8ZRMN4CoUGjP2fOnJzdVogynGMouWZRZQsdjpTGBqTFdrdlVyc/nFNaNY0Wm+JhFDczs4GAn0YNgqAjDbBAI+4cb/DLx236elotDotCtxQGy3FiZ/v27eXKK69UZug1Gxj/6NGjR0ZcnDY609F/HzJkiOoO83v54ew3bz5fmADFozAj3kECRxBgo2amQpCzGc5ec6F4eCXH51JLgI2aGdeTsxnOXnOheHglx+dSS4CNmhnXk7MZzl5zoXh4JcfnUkuAjZoZ15OzGc5ec6F4eCXH51JLgI2aGdeTsxnOXnOheHglx+dSSwCNGi8zBHjcrxnOXnKheHihxmdIIEEE3L7kCSoSTY0BAbf1qtRhfgWIgbtoAgkUT8DtS158ynwizQTc1iuKR5prCcueaAJuX/JEF5LGGyfgtl5RPIy7hhmSQDAE3L7kweTGVNJCwG29onikpUawnNYRcPuSW1dwFihUAm7rFcUjVDcwcRIIj4Dblzw8C5iyjQTc1iuKh43eZ5lSQcDtS54KGCxkYATc1iuKR2DImRAJmCXg9iU3axVzSzoBt/WK4pF0T9P+1BJw+5KnFhAL7omA23pF8fCElw+RQPQE3L7k0VtKC5JEwG29ongkyau0lQQcBNy+5IRGAsUQcFuvKB7FUOW9JBAjAm5f8hiZTFMSQMBtvaJ4JMCZNJEEchFw+5KTHgkUQ8BtvaJ4FEOV95JAjAi4fcljZDJNSQABt/WK4pEAZ9JEEmDkwTpgigDFwxRp5kMCERFw+5JHZB6zTSgBt/WKkUdCHUyzScDtS05SJFAMAbf1iuJRDFXeSwIxIuD2JY+RyTQlAQTc1iuKRwKcSRNJgGMerAOmCFA8TJFmPiQQEYEtW7ZImzZtZNu2bRFZwGxtJPDLL79I69atZdKkSSUWj5GHjd5nmVJDYM+ePfLjjz+mprwsqBkCFSpUkOOPP57iYQY3cyEBEiCB9BBg5JEeX7OkJEACJBAYAYpHYCiZEAmQAAmkhwDFIz2+ZklJgARIIDACFI/AUDIhEiABEkgPAYpHenzNkpIACZBAYAQoHoGhZEIkQAIkkB4C/x+S015CAvhgygAAAABJRU5ErkJggg==\" style=\"cursor:pointer;max-width:100%;\" onclick=\"(function(img){if(img.wnd!=null&&!img.wnd.closed){img.wnd.focus();}else{var r=function(evt){if(evt.data=='ready'&&evt.source==img.wnd){img.wnd.postMessage(decodeURIComponent(img.getAttribute('src')),'*');window.removeEventListener('message',r);}};window.addEventListener('message',r);img.wnd=window.open('https://www.draw.io/?client=1&lightbox=1&edit=_blank');}})(this);\"/>\n",
        "\n",
        "[Link](https://www.draw.io/?lightbox=1&highlight=0000ff&edit=_blank&layers=1&nav=1&title=flow3-fast-power.draw.io.xml#R3Vtbc5s6EP41PNrD3fAYO25PZ9qeS85Mk0fZyJgGkA%2FIwfavPxIIg0BcarDrpDPxiGUlpN399gaVtEVw%2BByB3fYbcqAvqbJzkLRHSVVNUye%2FlHDMCJptZQQ38pyMpBSEJ%2B8EGVFm1L3nwJhjxAj52NvxxDUKQ7jGHA1EEUp4tg3y%2BafugAtrhKc18OvUH56Dt4yqmHZx4w%2FouVv2aEudZTdWYP3qRmgfsudJqrZJ%2F2W3A5CvxQ4ab4GDkhJJW0raIkIIZ6PgsIA%2BFW0utmzep4a7531HMMR9JqhsG%2FiYHx06RBLsEkV4i1wUAn9ZUOfp8SBdQCZXWxz4ZKiQIXlmdHym9KmRX74wtp8Q4yNTNNhjREjF6l8R2rE1NijEn0Dg%2BdRy%2FvUCYgWq%2FB0m5PcfFICQsNTPyI4do320ZsfQmNWAyIW5kjISPWBpGpPLZ4gCSPZLGCLoA%2By98aYAmEW5Z75CqmTABCsWMtvLG%2FD3bNGY7AvXRe%2F7xMCpiJOth%2BHTDqSnSQjEeEEPEdIbjDA8tAqA3VVlI5vCQGwym00KRMwYaVvCgi4Pl5gukBgxkTsXmFIRmK7fTmL%2B8jlwEt21%2FkzeguU31XhGXyaKPRjeQpAKwNzTDaQXjwfu6siuhPDsBLpZB7qi3QjYZs1MJdX0yS7mHhm4dJDkFLLWmUjmSEtVskzJJqqXlZxnFRUcFb3xWrkPc7d5c1flurnbAnPXRjD32UeNW1bdnM3fFbesmnkn69MRg5%2BS9kAMFQTU7MJVvEsPVzH8UGz4C2r7VV4g5KUPkddAWhiSpb6ihJh8Teskf9rR4RpEzii4iDNVK%2Bp1MKJo%2FTAyRkgY7vxvj5Hu%2BNCBH0WQ%2BAljY56B3x5WeZFTwhUGrzVlEQvDvA4iSKwTrFIGKpAd8kKcbsSYS8YjBZLvuSGFAxERjAiBWqpH6poHdiPwHCdVtA9W0J%2Bfq5UF8lGUPjevVy50aXYDQs61Gtu%2FVK53RMiZyFOTVFwceiasXOmtErb6X1RQxdI6v6gy4xdAm00McU2j5y32U7JSU%2BgA9I2NsIuzswvQl4t3PKCJtapo9tSSbUPVst8Zr2aSjE9Ld63K%2BtmO2ZLDNK%2FW4B169cj1PuGtNEXAX8Y30YammNeAt6FWVjWuge96US9MgYRJEp8SZbR4B8ISLZvHcZBZFabmieyBcsfctoJji4LVPr6XYuMcNfNiQ9CNMAWJlHGt2jq3qo9cWytG32RKH8OlP0QROJYYmANsjuNqpd%2BiVJqdFX5Nk9v4ySDbwcU%2Bwej2CUkvn1A0BzqqrH7LiTwFfcRcsoyWBUQeo6Nme5eNDJIScHahzfoVaeoIviUPgXeXJ%2FZzELO6g9DHTvd6i3LWCL%2ByJSfHnRefWloYXZbf0NJr6Ew4aL0PUhl2Gfsq0%2BrX1W2t3%2B42fkW%2BZdd6hObeDSMrPHi4NI1cveQrknExiV4Mi8bHN8v9vvwRIrD9%2B4uvHF70xfLc4h%2B1%2F31RNK5GV6P66rEava1h%2FLkBNvGfDVTMPzjat6qjqyzoeiUgmiS3Rtyc4HhvLY7tzKa%2Bz1CtWpWUz7pdqBY7K6WmcFEz744d2GXOqLWnyjkjo1WhE3mq2xbz%2BJcW%2FqNW9q0n68B1P4gGyBFBkkxXm6D78bsDgo5SzQSb3UI1iVHqbsESuIXZ1dyCOtgFXKn9e0G6cqee5YqdiO7WQbWp2NA%2FFi00VWaKTgJZ%2Bst3QDXLnrIb2S%2F%2FkExMYzSpxbKr9zTfd%2Be6d5eaN8oWRP%2BGdnalm32Vt1XiEw9vTbzTNEavO5uWbP8GrY3WbbblJGDcdmO%2F5T5%2Bu3FYslKtYTR1atTSldtWMfVPfXLZpvVkSaLmf3v6cfKcRoEJc%2Bv0Qx0fbnBxt6M8FeW%2BE%2BqdT9JCl2ybfvNjz%2BmYlgb8R0DEEuQT%2BXNOHvRh6JUtI1ude%2FI4%2B%2B9Kj1uN%2BJob61FUTFKPFJ9Ekqt8X%2BWipj135gAxjtArzMN1iEIaDTae71dI%2FTMBEVh5OI8ARq3yXlH0gZYierF4QelALosv%2B7MoXfzvCW35Pw%3D%3D)"
      ]
    },
    {
      "cell_type": "markdown",
      "metadata": {
        "id": "sU1VQ7wqN_UN"
      },
      "source": [
        "#### 1.1. Jaki wynik zostanie wypisany dla wartości $n=4$ oraz $a=2$?\n",
        "\n",
        "Analiza:\n",
        "Tworzymy tabelkę zawierającą kolumny ze zmiennymi w algorytmie.\n",
        "Analizujemy, krok po kroku, jak zmieniają się wartości\n",
        "\n",
        "| krok pętli | *n* | *a* | *w* |\n",
        "|------------|-----|-----|-----|\n",
        "|     0      |   4 |   2 |   1 |\n",
        "|     1      |   4 |   4 |   1 |\n",
        "|     2      |   2 |   4 |   1 |\n",
        "|     3      |   2 |  16 |   1 |\n",
        "|     4      |   1 |  16 |   1 |\n",
        "|     5      |   1 |  16 |  16 |\n",
        "|     6      |   1 | 256 |  16 |\n",
        "|     7      |   0 | 256 |  16 |\n",
        "|     8      |   0 | 256 |  16 |\n",
        "|--------------stop------------|\n"
      ]
    },
    {
      "cell_type": "markdown",
      "metadata": {
        "id": "QIFJ1jfsN_UN"
      },
      "source": [
        "Wpisz wynik zadania 1.1: ..."
      ]
    },
    {
      "cell_type": "markdown",
      "metadata": {
        "id": "RdhELXilN_UN"
      },
      "source": [
        "#### 1.2 Jaki wynik zostanie wypisany dla wartości $n=2$ oraz $a=4$?"
      ]
    },
    {
      "cell_type": "markdown",
      "metadata": {
        "id": "EtG_CjJvN_UN"
      },
      "source": [
        "Odpowiedz: Zostanie wpisany wynik w = 16."
      ]
    },
    {
      "cell_type": "markdown",
      "metadata": {
        "id": "230aaQ5IN_UN"
      },
      "source": [
        "#### 1.3. Zbadaj zachowanie się algorytmu dla ujemnych wartości $n$ oraz $a$?\n",
        "\n",
        "Odpowiedz: Dla ujemnych wartości zmiennej \"n\" dostajemy wynik w = 1, bez względu na wartość zmiennej \"a\". Lecz dla ujemnych wartości \"a\" dostajemy wynik dodatni gdy zmienna \"n\" jest liczbą parzystą, a ujemny gdy jest liczbą nieparzystą."
      ]
    },
    {
      "cell_type": "markdown",
      "metadata": {
        "id": "_5y6U8PKN_UN"
      },
      "source": [
        "Napisz odpowiedź do zadania 1.3: ..."
      ]
    },
    {
      "cell_type": "markdown",
      "metadata": {
        "id": "FO9VEN5-N_UN"
      },
      "source": [
        "#### 1.4. Napisz program w Python realizujący algorytm.\n",
        "\n",
        "Sprawdź wyniki z poprzednich poleceń. Uruchom program do różnych wartości $n$ oraz $a$. Jakie zadanie wykonuje algorytm?"
      ]
    },
    {
      "cell_type": "code",
      "metadata": {
        "trusted": true,
        "id": "mSxi9iqeN_UO"
      },
      "source": [
        "# Kod w python\n",
        "a = int(input('Enter a: '))\n",
        "n = int(input('Enter n: '))\n",
        "w = 1\n",
        "\n",
        "def function(n,a,w):\n",
        "  if n > 0:\n",
        "    if (n % 2) > 0:\n",
        "      w = w * a\n",
        "      a = a * a\n",
        "      n = n // 2\n",
        "      function(n,a,w)\n",
        "    else:\n",
        "      a = a * a\n",
        "      n = n // 2\n",
        "      function(n,a,w)\n",
        "  else:\n",
        "    print(w)\n",
        "\n",
        "function(n,a,w)\n",
        "\n",
        "# Odpowiedz: Algorytm realizuje funkcję potęgowania, gdzie \"a\" to podstawa potęgi a \"n\" to wykładnik potęgi."
      ],
      "execution_count": null,
      "outputs": []
    }
  ]
}